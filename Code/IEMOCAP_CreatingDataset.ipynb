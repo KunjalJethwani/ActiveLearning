{
 "cells": [
  {
   "cell_type": "code",
   "execution_count": null,
   "id": "55e20f76",
   "metadata": {},
   "outputs": [],
   "source": [
    "import os\n",
    "import re\n",
    "import pandas as pd\n",
    "from glob import glob"
   ]
  },
  {
   "cell_type": "code",
   "execution_count": null,
   "id": "0ff0db1f",
   "metadata": {},
   "outputs": [
    {
     "name": "stdout",
     "output_type": "stream",
     "text": [
      "          session speaker                     text\n",
      "0  Ses01F_impro01    F000               Excuse me.\n",
      "1  Ses01F_impro01    M000  Do you have your forms?\n",
      "2  Ses01F_impro01    F001                    Yeah.\n",
      "3  Ses01F_impro01    M001         Let me see them.\n",
      "4  Ses01F_impro01    F002      Is there a problem?\n"
     ]
    }
   ],
   "source": [
    "# Define the root folder containing all session directories\n",
    "root_folder_path = r\"C:\\Users\\Anjali\\Downloads\\IEMOCAP_full_release_withoutVideos\\IEMOCAP_full_release\"\n",
    "\n",
    "data = {\"session\": [], \"speaker\": [], \"text\": []}\n",
    "\n",
    "# Loop through sessions 1 to 5\n",
    "for session_num in range(1, 6):\n",
    "    folder_path = os.path.join(root_folder_path, f\"Session{session_num}\", \"dialog\", \"transcriptions\")\n",
    "\n",
    "    # Get all .txt files inside the folder\n",
    "    txt_files = glob(os.path.join(folder_path, \"*.txt\"))\n",
    "\n",
    "    # Define the pattern to extract session, speaker, and text\n",
    "    pattern = r\"(Ses\\w+) (\\[\\d+\\.\\d+\\-\\d+\\.\\d+\\]\\:) (.+)\"\n",
    "\n",
    "    for file_path in txt_files:\n",
    "        # Load the conversation data (assuming text file format)\n",
    "        with open(file_path, \"r\") as file:\n",
    "            lines = file.readlines()\n",
    "\n",
    "        # Extract sentence-level utterances\n",
    "        for line in lines:\n",
    "            match = re.match(pattern, line)\n",
    "\n",
    "            if match:\n",
    "                ses = match.group(1).split(\" \")[0]\n",
    "                session = ses[:ses.rfind(\"_\")]\n",
    "                speaker = ses[ses.rfind(\"_\") + 1:]  # 'F' or 'M'\n",
    "                text = match.group(3)\n",
    "                data['session'].append(session)\n",
    "                data['speaker'].append(speaker)\n",
    "                data['text'].append(text)\n",
    "\n",
    "# Convert to DataFrame\n",
    "df1 = pd.DataFrame(data)\n",
    "df1.to_csv(\"full_sentence_level_data.csv\", index=False)\n",
    "\n",
    "print(df1.head())  # Display processed data\n"
   ]
  },
  {
   "cell_type": "code",
   "execution_count": 3,
   "id": "cdbe5432",
   "metadata": {},
   "outputs": [
    {
     "data": {
      "text/plain": [
       "(10086, 3)"
      ]
     },
     "execution_count": 3,
     "metadata": {},
     "output_type": "execute_result"
    }
   ],
   "source": [
    "df1.shape"
   ]
  },
  {
   "cell_type": "code",
   "execution_count": 2,
   "id": "ba2d3b11",
   "metadata": {},
   "outputs": [
    {
     "name": "stdout",
     "output_type": "stream",
     "text": [
      "          session speaker emotion\n",
      "0  Ses01F_impro01    F000     neu\n",
      "1  Ses01F_impro01    F001     neu\n",
      "2  Ses01F_impro01    F002     neu\n",
      "3  Ses01F_impro01    F003     xxx\n",
      "4  Ses01F_impro01    F004     xxx\n"
     ]
    }
   ],
   "source": [
    "import os\n",
    "import re\n",
    "import pandas as pd\n",
    "from glob import glob\n",
    "\n",
    "# Define the root folder containing all session directories\n",
    "root_folder_path = r\"C:\\Users\\Anjali\\Downloads\\IEMOCAP_full_release_withoutVideos\\IEMOCAP_full_release\"\n",
    "\n",
    "data = {\"session\": [], \"speaker\": [], \"emotion\": []}\n",
    "\n",
    "# Loop through sessions 1 to 5\n",
    "for session_num in range(1, 6):\n",
    "    folder_path = os.path.join(root_folder_path, f\"Session{session_num}\", \"dialog\", \"EmoEvaluation\")\n",
    "\n",
    "    # Get all .txt files inside the folder\n",
    "    emo_files = glob(os.path.join(folder_path, \"*.txt\"))\n",
    "\n",
    "    # Regex pattern to extract turn name and emotion\n",
    "    pattern = r\"\\[\\d+\\.\\d+ - \\d+\\.\\d+\\]\\s+(\\S+)\\s+(\\w+)\\s+\\[\"\n",
    "\n",
    "    for file_path in emo_files:\n",
    "        # Load the conversation data (assuming text file format)\n",
    "        with open(file_path, \"r\") as file:\n",
    "            lines = file.readlines()\n",
    "\n",
    "        for line in lines:\n",
    "            match = re.search(pattern, line)\n",
    "\n",
    "            if match:\n",
    "                turn_name = match.group(1)  # e.g., \"Ses01F_impro01_F000\"\n",
    "                session = turn_name[:turn_name.rfind(\"_\")]\n",
    "                speaker = turn_name[turn_name.rfind(\"_\") + 1:]\n",
    "                emotion = match.group(2)  # e.g., \"neu\", \"xxx\"\n",
    "                data[\"session\"].append(session)\n",
    "                data[\"speaker\"].append(speaker)\n",
    "                data[\"emotion\"].append(emotion)\n",
    "\n",
    "# Convert to DataFrame\n",
    "df2 = pd.DataFrame(data)\n",
    "df2.to_csv(\"full_emotion_data.csv\", index=False)\n",
    "\n",
    "print(df2.head())  # Display processed data\n"
   ]
  },
  {
   "cell_type": "code",
   "execution_count": 4,
   "id": "6acda6e0",
   "metadata": {},
   "outputs": [
    {
     "data": {
      "text/plain": [
       "(10039, 3)"
      ]
     },
     "execution_count": 4,
     "metadata": {},
     "output_type": "execute_result"
    }
   ],
   "source": [
    "df2.shape"
   ]
  },
  {
   "cell_type": "code",
   "execution_count": 5,
   "id": "ccac0275",
   "metadata": {},
   "outputs": [],
   "source": [
    "df = df1.merge(df2, on = ['session', 'speaker'])\n",
    "\n",
    "df.to_csv('full_final_data.csv', index = False)"
   ]
  }
 ],
 "metadata": {
  "kernelspec": {
   "display_name": "keras_env",
   "language": "python",
   "name": "python3"
  },
  "language_info": {
   "codemirror_mode": {
    "name": "ipython",
    "version": 3
   },
   "file_extension": ".py",
   "mimetype": "text/x-python",
   "name": "python",
   "nbconvert_exporter": "python",
   "pygments_lexer": "ipython3",
   "version": "3.11.5"
  }
 },
 "nbformat": 4,
 "nbformat_minor": 5
}
